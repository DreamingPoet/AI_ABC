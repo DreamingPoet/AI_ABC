{
 "cells": [
  {
   "cell_type": "markdown",
   "metadata": {},
   "source": [
    "## 了解 RAG 中的 Embedding Vectors\n",
    "1. 什么是embedding\n",
    "2. Sentence BERT\n",
    "3. 如何选取 embedding model\n",
    "\n",
    "## 什么是embedding\n",
    "考虑一下如何表示“男人',“女人',我们可以从性别上出发,假设男性性别可以表示'1’, 女性性别可以表示为’9',即可将“男人',“女人'区分开来那么当加入'男孩',“女孩'的时候,单纯靠性别已经无法完全区分上述四个单词,此时可以引入年龄,'男人':[1.35],“女人':[9,35],“男孩':[1,10],“女孩':[19,10]\n"
   ]
  },
  {
   "cell_type": "code",
   "execution_count": null,
   "metadata": {},
   "outputs": [],
   "source": [
    "import matplotlib.pyplot as plt\n",
    "import numpy as np\n",
    "\n",
    "# 定义字体\n",
    "plt.rcParams['font.sans-serif']=['Kaitt', 'simHei']\n",
    "# 定义负号显示\n",
    "plt.rcParams['axes.unicode_minus']= False\n",
    "\n",
    "#定义点的坐标和标签\n",
    "points ={\n",
    "    '男人':[1,35],\n",
    "    '女人':[9,35],\n",
    "    '男孩':[1,10],\n",
    "    '女孩':[9,10]\n",
    "}\n",
    "\n",
    "x_values = [point[0] for point in points.values()]\n",
    "y_values =[point[1] for point in points.values()]\n",
    "labels = list(points.keys())\n",
    "\n",
    "plt.figure(figsize=(4,3))\n",
    "for i,label in enumerate(labels):\n",
    "    plt.scatter(x_values[i],y_values[i],label=label)\n",
    "    \n",
    "#设置x轴和Y轴的范围和精度\n",
    "plt.xlim([0,10])\n",
    "plt.ylim([0,50])\n",
    "plt.xticks(np.arange(0,10,1))\n",
    "plt.yticks(np.arange(0,50,10))\n",
    "\n",
    "#添加标签\n",
    "for i, label in enumerate(labels):\n",
    "    plt.annotate(label, (x_values[i], y_values[i]), textcoords='offset points', xytext=(0,10), ha='center')\n",
    "#设置图表标题和坐标轴标签\n",
    "plt.title('embedding')\n",
    "plt.xlabel('性别')\n",
    "plt.ylabel('年龄')#显示图例\n",
    "plt.legend()\n",
    "# 显示图表\n",
    "plt.show()"
   ]
  },
  {
   "cell_type": "markdown",
   "metadata": {},
   "source": []
  },
  {
   "cell_type": "markdown",
   "metadata": {},
   "source": [
    "随着词汇的逐渐增加，二维已经不足以区分单词，例如引入新的单词“国王'，“皇后',只靠年龄和性别，已经无法区分国王 -- 男人， 皇后，女人\n",
    "所以我们引入新的特征，例如'皇室的'，则“男人':[1,35,1],“女人':[9,35,1],“男孩':[1,10,11],“'女孩':[9,10,1],'国王':[1,35,91],“'皇后':[9,35,9]"
   ]
  },
  {
   "cell_type": "code",
   "execution_count": null,
   "metadata": {},
   "outputs": [],
   "source": [
    "# import matplotlib.pyplot as plt\n",
    "# import numpy as np\n",
    "\n",
    "# # 定义字体\n",
    "# plt.rcParams['font.sans-serif']=['Kaitt', 'simHei']\n",
    "# # 定义负号显示\n",
    "# plt.rcParams['axes.unicode_minus']= False\n",
    "\n",
    "points = {\n",
    "    '男人': [1, 35, 1],\n",
    "    '女人': [9, 35, 1],\n",
    "    '男孩': [1, 10, 1],\n",
    "    '女孩': [9, 10, 1],\n",
    "    '国王': [1, 35, 9],\n",
    "    '皇后': [9, 35, 9],\n",
    "}\n",
    "x_coords = [point[0] for point in points.values()]\n",
    "y_coords = [point[1] for point in points.values()]\n",
    "z_coords = [point[2] for point in points.values()]\n",
    "labels = list(points.keys())\n",
    "\n",
    "# 创建图形和三维坐标轴\n",
    "fig = plt.figure(figsize=(12, 10))\n",
    "ax = fig.add_subplot(111, projection='3d')\n",
    "\n",
    "for i, label in enumerate(labels):\n",
    "    ax.scatter(\n",
    "        # x_coords[i], y_coords[i], z_coords[i], color=colors[i], label=label, s=50\n",
    "        x_coords[i], y_coords[i], z_coords[i], label=label, s=50\n",
    "    )\n",
    "\n",
    "# 为每个点添加标签，并设置偏移量\n",
    "for i, label in enumerate(labels):\n",
    "    ax.text(\n",
    "        x_coords[i],\n",
    "        y_coords[i],\n",
    "        z_coords[i],\n",
    "        label,\n",
    "        fontsize=15,\n",
    "        horizontalalignment='left',\n",
    "        verticalalignment='bottom',\n",
    "    )\n",
    "\n",
    "# 设置标签\n",
    "ax.set_xlabel('性别')\n",
    "ax.set_ylabel('年龄')\n",
    "ax.set_zlabel('皇室')\n",
    "# 调整视角\n",
    "ax.view_init(elev=25.0, azim=-15)\n",
    "# 显示图形\n",
    "plt.show()"
   ]
  },
  {
   "cell_type": "markdown",
   "metadata": {},
   "source": [
    "embedding 模型选取\n",
    "\n",
    "m3e 模型"
   ]
  },
  {
   "cell_type": "code",
   "execution_count": null,
   "metadata": {},
   "outputs": [],
   "source": [
    "from sentence_transformers import SentenceTransformer\n",
    "\n",
    "# model = SentenceTransformer('all-MiniLM-L6-v2')\n",
    "model = SentenceTransformer('moka-ai/m3e-base')\n",
    "\n",
    "#Our sentences we like to encode\n",
    "sentences =['为什么良好的睡眠对健康至关重要?',\n",
    "'良好的睡眠有助于身体修复自身,增强免疫系统',\n",
    "'在监督学习中，算法经常需要大量的标记数据来进行有效学习',\n",
    "'睡眠不足可能导致长期健康问题,如心脏病和糖尿病',\n",
    "'这种学习方法依赖于数据质量和数量',\n",
    "'它帮助维持正常的新陈代谢和体重控制',\n",
    "'睡眠对儿童和青少年的大脑发育和成长尤为重要',\n",
    "'良好的睡眠有助于提高日间的工作效率和注意力',\n",
    "'监督学习的成功取决于特征选择和算法的选择',\n",
    "'量子计算机的发展仍处于早期阶段，面临技术和物理挑战',\n",
    "'量子计算机与传统计算机不同，后者使用二进制位进行计算',\n",
    "'机器学习使我睡不着觉']\n",
    "#Sentences are encoded by calling model.encode()\n",
    "embeddings =model.encode(sentences)\n"
   ]
  },
  {
   "cell_type": "code",
   "execution_count": null,
   "metadata": {},
   "outputs": [],
   "source": [
    "len(embeddings[1])"
   ]
  },
  {
   "cell_type": "code",
   "execution_count": 18,
   "metadata": {},
   "outputs": [],
   "source": [
    "from sklearn.manifold import TSNE\n",
    "import numpy as np\n",
    "\n",
    "# 使用 TSNE 进行降维, perplexity 空阔度，根据样本大小来选择，一般取值在 5 到 50 之间\n",
    "tsne = TSNE(n_components=2, perplexity=5)\n",
    "embeddings_2d=tsne.fit_transform(embeddings)"
   ]
  },
  {
   "cell_type": "code",
   "execution_count": null,
   "metadata": {},
   "outputs": [],
   "source": [
    "import matplotlib.pyplot as plt\n",
    "# 定义字体\n",
    "plt.rcParams['font.sans-serif']=['Kaitt', 'simHei']\n",
    "# 定义负号显示\n",
    "plt.rcParams['axes.unicode_minus']= False\n",
    "             \n",
    "color_list =['black'] * len(embeddings_2d[1:])\n",
    "color_list.insert(0,'red')\n",
    "\n",
    "plt.scatter(embeddings_2d[:,0],embeddings_2d[:,1],color=color_list )\n",
    "\n",
    "for i in range(len(embeddings_2d)):\n",
    "    plt.text(embeddings_2d[:,0][i], embeddings_2d[:,1][i]+2, sentences[i], color=color_list[i])\n",
    "    \n",
    "#显示图表\n",
    "plt.show()"
   ]
  },
  {
   "cell_type": "code",
   "execution_count": null,
   "metadata": {},
   "outputs": [],
   "source": [
    "from sentence_transformers import SentenceTransformer\n",
    "\n",
    "model = SentenceTransformer('all-MiniLM-L6-v2')\n",
    "# model = SentenceTransformer('moka-ai/m3e-base')\n",
    "\n",
    "#Sentences are encoded by calling model.encode()\n",
    "embeddings2 =model.encode(sentences)"
   ]
  },
  {
   "cell_type": "code",
   "execution_count": null,
   "metadata": {},
   "outputs": [],
   "source": [
    "from sklearn.manifold import TSNE\n",
    "import numpy as np\n",
    "\n",
    "# 使用 TSNE 进行降维, perplexity 空阔度，根据样本大小来选择，一般取值在 5 到 50 之间\n",
    "tsne = TSNE(n_components=2, perplexity=5)\n",
    "embeddings_2d=tsne.fit_transform(embeddings2)\n",
    "\n",
    "import matplotlib.pyplot as plt\n",
    "# 定义字体\n",
    "plt.rcParams['font.sans-serif']=['Kaitt', 'simHei']\n",
    "# 定义负号显示\n",
    "plt.rcParams['axes.unicode_minus']= False\n",
    "             \n",
    "color_list =['black'] * len(embeddings_2d[1:])\n",
    "color_list.insert(0,'red')\n",
    "\n",
    "plt.scatter(embeddings_2d[:,0],embeddings_2d[:,1],color=color_list )\n",
    "\n",
    "for i in range(len(embeddings_2d)):\n",
    "    plt.text(embeddings_2d[:,0][i], embeddings_2d[:,1][i]+2, sentences[i], color=color_list[i])\n",
    "    \n",
    "#显示图表\n",
    "plt.show()"
   ]
  },
  {
   "cell_type": "code",
   "execution_count": null,
   "metadata": {},
   "outputs": [],
   "source": [
    "print(len(embeddings2))"
   ]
  }
 ],
 "metadata": {
  "kernelspec": {
   "display_name": ".venv",
   "language": "python",
   "name": "python3"
  },
  "language_info": {
   "codemirror_mode": {
    "name": "ipython",
    "version": 3
   },
   "file_extension": ".py",
   "mimetype": "text/x-python",
   "name": "python",
   "nbconvert_exporter": "python",
   "pygments_lexer": "ipython3",
   "version": "3.12.0"
  }
 },
 "nbformat": 4,
 "nbformat_minor": 2
}
